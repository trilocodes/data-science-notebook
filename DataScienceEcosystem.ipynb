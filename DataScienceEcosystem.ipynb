{
  "metadata": {
    "kernelspec": {
      "name": "python",
      "display_name": "Python (Pyodide)",
      "language": "python"
    },
    "language_info": {
      "codemirror_mode": {
        "name": "python",
        "version": 3
      },
      "file_extension": ".py",
      "mimetype": "text/x-python",
      "name": "python",
      "nbconvert_exporter": "python",
      "pygments_lexer": "ipython3",
      "version": "3.8"
    }
  },
  "nbformat_minor": 5,
  "nbformat": 4,
  "cells": [
    {
      "id": "335b4e80-1c95-497f-a3e8-9ea50b9075a1",
      "cell_type": "markdown",
      "source": "# Data Science Tools and Ecosystem",
      "metadata": {}
    },
    {
      "id": "7cf39810-c882-4db3-81f8-089fd5305a74",
      "cell_type": "markdown",
      "source": "In this notebook, Data Science Tools and Ecosystem are summarized.",
      "metadata": {}
    },
    {
      "id": "9d661a97-4251-4df2-8318-e60d5636e5bb",
      "cell_type": "markdown",
      "source": "Some of the popular languages that Data Scientists use are:\n1. Python\n2. R\n3. SQL\n",
      "metadata": {}
    },
    {
      "id": "052f7d1b-c59c-42b9-81b7-541b03ea8505",
      "cell_type": "markdown",
      "source": "Some of the commonly used libraries used by Data Scientists include:\n1. Pandas\n2. NumPy\n3. Scikit-learn\n",
      "metadata": {}
    },
    {
      "id": "cf160cd4-5b73-4ce9-9e56-a764335e9eb7",
      "cell_type": "markdown",
      "source": "| Data Science Tools |\n|--------------------|\n| Jupyter Notebook   |\n| RStudio            |\n| Apache Zeppelin    |\n",
      "metadata": {}
    },
    {
      "id": "b672dd07-4b62-405c-a817-da31787c3867",
      "cell_type": "markdown",
      "source": "### Below are a few examples of evaluating arithmetic expressions in Python.",
      "metadata": {}
    },
    {
      "id": "44785f7b-78b3-48c9-b16d-102a1bf6a9e5",
      "cell_type": "markdown",
      "source": "This a simple arithmetic expression to mutiply then add integers.",
      "metadata": {}
    },
    {
      "id": "1dc10cb9-2e1c-4da5-9004-e16af7058aa1",
      "cell_type": "code",
      "source": "(3*4)+5\n",
      "metadata": {
        "trusted": true
      },
      "outputs": [
        {
          "execution_count": 1,
          "output_type": "execute_result",
          "data": {
            "text/plain": "17"
          },
          "metadata": {}
        }
      ],
      "execution_count": 1
    },
    {
      "id": "3568f539-3086-4959-ab8a-83a8632ea9c1",
      "cell_type": "markdown",
      "source": "This will convert 200 minutes to hours by diving by 60.",
      "metadata": {}
    },
    {
      "id": "f59acf59-3982-490c-b514-c1c26d9cee5e",
      "cell_type": "code",
      "source": "200/60",
      "metadata": {
        "trusted": true
      },
      "outputs": [
        {
          "execution_count": 2,
          "output_type": "execute_result",
          "data": {
            "text/plain": "3.3333333333333335"
          },
          "metadata": {}
        }
      ],
      "execution_count": 2
    },
    {
      "id": "09eec2e0-b29c-473b-adec-363bac57c685",
      "cell_type": "markdown",
      "source": "**Objectives:**\n- List popular languages for data science\n- List popular tools for data science\n- List popular libraries for data science\n- Demo for addition, multiplication and dicision of integers.\n",
      "metadata": {}
    },
    {
      "id": "92eb78ee-7c7e-4758-bbfa-bfba337cf1b4",
      "cell_type": "markdown",
      "source": "## Author",
      "metadata": {}
    },
    {
      "id": "2f134687-4f57-47b4-b532-eaf5244203f2",
      "cell_type": "markdown",
      "source": "Trilochan Yannawar",
      "metadata": {}
    },
    {
      "id": "e061ac53-a507-4380-92fe-6e1ea2187646",
      "cell_type": "code",
      "source": "",
      "metadata": {
        "trusted": true
      },
      "outputs": [],
      "execution_count": null
    }
  ]
}